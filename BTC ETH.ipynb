{
 "cells": [
  {
   "cell_type": "markdown",
   "metadata": {
    "collapsed": true
   },
   "source": [
    "# Processing data"
   ]
  },
  {
   "cell_type": "markdown",
   "metadata": {},
   "source": [
    "Read data already collected"
   ]
  },
  {
   "cell_type": "code",
   "execution_count": 91,
   "metadata": {
    "collapsed": false
   },
   "outputs": [],
   "source": [
    "import json\n",
    "import time\n",
    "import datetime\n",
    "import pandas as pd\n",
    "import numpy as np\n",
    "\n",
    "tweets_data_morn = '/Users/Madhu/Documents/Courses/data_bds/bitcoin'\n",
    "tweets_data_eve = '/Users/Madhu/Documents/Courses/data_bds/btctwitter2'\n",
    "\n",
    "tweets_data_m = []\n",
    "tweets_data_e = []\n",
    "\n",
    "tweets_file = open(tweets_data_morn, \"r\")\n",
    "for line in tweets_file:\n",
    "    try:\n",
    "        tweet = json.loads(line)\n",
    "        tweets_data_m.append(tweet)\n",
    "    except:\n",
    "        continue\n",
    "        \n",
    "tweets_file = open(tweets_data_eve, \"r\")\n",
    "for line in tweets_file:\n",
    "    try:\n",
    "        tweet = json.loads(line)\n",
    "        tweets_data_e.append(tweet)\n",
    "    except:\n",
    "        continue\n"
   ]
  },
  {
   "cell_type": "code",
   "execution_count": 92,
   "metadata": {
    "collapsed": false
   },
   "outputs": [
    {
     "name": "stdout",
     "output_type": "stream",
     "text": [
      "8035\n"
     ]
    }
   ],
   "source": [
    "print (len(tweets_data_m))"
   ]
  },
  {
   "cell_type": "code",
   "execution_count": 93,
   "metadata": {
    "collapsed": false
   },
   "outputs": [
    {
     "name": "stdout",
     "output_type": "stream",
     "text": [
      "2842\n"
     ]
    }
   ],
   "source": [
    "print (len(tweets_data_e))"
   ]
  },
  {
   "cell_type": "code",
   "execution_count": 94,
   "metadata": {
    "collapsed": false
   },
   "outputs": [
    {
     "data": {
      "text/plain": [
       "'Sat Oct 28 02:44:27 +0000 2017'"
      ]
     },
     "execution_count": 94,
     "metadata": {},
     "output_type": "execute_result"
    }
   ],
   "source": [
    "tweets_data_e[0]['created_at']"
   ]
  },
  {
   "cell_type": "code",
   "execution_count": 95,
   "metadata": {
    "collapsed": false
   },
   "outputs": [],
   "source": [
    "date_col = []\n",
    "lang = []\n",
    "text = []\n",
    "\n",
    "for line in tweets_data_e:\n",
    "    try:\n",
    "        date_col.append(datetime.datetime.strptime(line['created_at'],'%a %b %d %H:%M:%S +0000 %Y'))\n",
    "        lang.append(line['lang'])\n",
    "        text.append(line['text'])\n",
    "    except:\n",
    "        continue"
   ]
  },
  {
   "cell_type": "code",
   "execution_count": 96,
   "metadata": {
    "collapsed": false
   },
   "outputs": [],
   "source": [
    "d = {'date': date_col, 'lang': lang, 'text':text}\n",
    "df = pd.DataFrame(data=d)"
   ]
  },
  {
   "cell_type": "code",
   "execution_count": 183,
   "metadata": {
    "collapsed": false
   },
   "outputs": [
    {
     "data": {
      "text/html": [
       "<div>\n",
       "<table border=\"1\" class=\"dataframe\">\n",
       "  <thead>\n",
       "    <tr style=\"text-align: right;\">\n",
       "      <th></th>\n",
       "      <th>date</th>\n",
       "      <th>lang</th>\n",
       "      <th>text</th>\n",
       "    </tr>\n",
       "  </thead>\n",
       "  <tbody>\n",
       "    <tr>\n",
       "      <th>2837</th>\n",
       "      <td>2017-10-28 03:15:04</td>\n",
       "      <td>en</td>\n",
       "      <td>Join now: \\n\\nhttps://t.co/UQaGl632VA\\n$BTC $LTC $DOGE $VTC $PPC $FTC $RDD $NXT $DASH 56659279624</td>\n",
       "    </tr>\n",
       "    <tr>\n",
       "      <th>2838</th>\n",
       "      <td>2017-10-28 03:15:05</td>\n",
       "      <td>en</td>\n",
       "      <td>RT @Bitcoin_Mafia: All that glitters is not gold - ESPECIALLY #BitcoinGold https://t.co/a0ENLx2xJb @bitcoinist https://t.co/BD0jDu0EzS</td>\n",
       "    </tr>\n",
       "    <tr>\n",
       "      <th>2839</th>\n",
       "      <td>2017-10-28 03:15:05</td>\n",
       "      <td>en</td>\n",
       "      <td>HitBTC  Exchange\\nExchange bitflip.li \\nhttps://t.co/oZdIBijDBN\\n#bitcoin\\n#HitBTC #BitFlip\\n#ethereum #blockchain https://t.co/QXooSOsO8F</td>\n",
       "    </tr>\n",
       "    <tr>\n",
       "      <th>2840</th>\n",
       "      <td>2017-10-28 03:15:06</td>\n",
       "      <td>en</td>\n",
       "      <td>The US Shuts Down A Bitcoin Mining Operation https://t.co/YMjqChESuO https://t.co/P90Vb96o9l</td>\n",
       "    </tr>\n",
       "    <tr>\n",
       "      <th>2841</th>\n",
       "      <td>2017-10-28 03:15:06</td>\n",
       "      <td>en</td>\n",
       "      <td>The Latest #bitcoin News Today &amp;amp; #cryptocurrency News - BitNewz #BTC\\nhttps://t.co/TR0bRyLVff</td>\n",
       "    </tr>\n",
       "  </tbody>\n",
       "</table>\n",
       "</div>"
      ],
      "text/plain": [
       "                    date lang  \\\n",
       "2837 2017-10-28 03:15:04   en   \n",
       "2838 2017-10-28 03:15:05   en   \n",
       "2839 2017-10-28 03:15:05   en   \n",
       "2840 2017-10-28 03:15:06   en   \n",
       "2841 2017-10-28 03:15:06   en   \n",
       "\n",
       "                                                                                                                                            text  \n",
       "2837                                           Join now: \\n\\nhttps://t.co/UQaGl632VA\\n$BTC $LTC $DOGE $VTC $PPC $FTC $RDD $NXT $DASH 56659279624  \n",
       "2838      RT @Bitcoin_Mafia: All that glitters is not gold - ESPECIALLY #BitcoinGold https://t.co/a0ENLx2xJb @bitcoinist https://t.co/BD0jDu0EzS  \n",
       "2839  HitBTC  Exchange\\nExchange bitflip.li \\nhttps://t.co/oZdIBijDBN\\n#bitcoin\\n#HitBTC #BitFlip\\n#ethereum #blockchain https://t.co/QXooSOsO8F  \n",
       "2840                                                The US Shuts Down A Bitcoin Mining Operation https://t.co/YMjqChESuO https://t.co/P90Vb96o9l  \n",
       "2841                                           The Latest #bitcoin News Today &amp; #cryptocurrency News - BitNewz #BTC\\nhttps://t.co/TR0bRyLVff  "
      ]
     },
     "execution_count": 183,
     "metadata": {},
     "output_type": "execute_result"
    }
   ],
   "source": [
    "df.tail()"
   ]
  },
  {
   "cell_type": "code",
   "execution_count": 98,
   "metadata": {
    "collapsed": false
   },
   "outputs": [],
   "source": [
    "df_en = df[df['lang']=='en']"
   ]
  },
  {
   "cell_type": "code",
   "execution_count": 107,
   "metadata": {
    "collapsed": false
   },
   "outputs": [
    {
     "data": {
      "text/html": [
       "<div>\n",
       "<table border=\"1\" class=\"dataframe\">\n",
       "  <thead>\n",
       "    <tr style=\"text-align: right;\">\n",
       "      <th></th>\n",
       "      <th>date</th>\n",
       "      <th>lang</th>\n",
       "      <th>text</th>\n",
       "    </tr>\n",
       "  </thead>\n",
       "  <tbody>\n",
       "    <tr>\n",
       "      <th>1</th>\n",
       "      <td>2017-10-28 02:44:29</td>\n",
       "      <td>en</td>\n",
       "      <td>opened a bitcoin long here</td>\n",
       "    </tr>\n",
       "    <tr>\n",
       "      <th>2</th>\n",
       "      <td>2017-10-28 02:44:29</td>\n",
       "      <td>en</td>\n",
       "      <td>Bitcoin Gold Update! Amazon to Accept Bitcoin? Top Investor Criticizes Jamie Dimon! Check it out! https://t.co/XdY4kGVjkp #cryptocurrency …</td>\n",
       "    </tr>\n",
       "    <tr>\n",
       "      <th>3</th>\n",
       "      <td>2017-10-28 02:44:30</td>\n",
       "      <td>en</td>\n",
       "      <td>First Bitcoin Gold, Now Bitcoin Silver Is Ready To Fork. Actual Fork Or Silly Joke? What Do You Think? Check it out! …</td>\n",
       "    </tr>\n",
       "    <tr>\n",
       "      <th>4</th>\n",
       "      <td>2017-10-28 02:44:30</td>\n",
       "      <td>en</td>\n",
       "      <td>RT @Crypticsup: #cryptics #crowdsale #bitcoin  #ico BTC/USD + ETH/USD and other coins forecast for 27.10.2017 – Cryptics Blog https://t.co/…</td>\n",
       "    </tr>\n",
       "    <tr>\n",
       "      <th>5</th>\n",
       "      <td>2017-10-28 02:44:31</td>\n",
       "      <td>en</td>\n",
       "      <td>Create Bitcoin account (online wallet) From and Deposit Instant Banking PayPal etchttps: https://t.co/du6Fj7NdLj 28.10 04:44</td>\n",
       "    </tr>\n",
       "  </tbody>\n",
       "</table>\n",
       "</div>"
      ],
      "text/plain": [
       "                 date lang  \\\n",
       "1 2017-10-28 02:44:29   en   \n",
       "2 2017-10-28 02:44:29   en   \n",
       "3 2017-10-28 02:44:30   en   \n",
       "4 2017-10-28 02:44:30   en   \n",
       "5 2017-10-28 02:44:31   en   \n",
       "\n",
       "                                                                                                                                           text  \n",
       "1                                                                                                                    opened a bitcoin long here  \n",
       "2   Bitcoin Gold Update! Amazon to Accept Bitcoin? Top Investor Criticizes Jamie Dimon! Check it out! https://t.co/XdY4kGVjkp #cryptocurrency …  \n",
       "3                        First Bitcoin Gold, Now Bitcoin Silver Is Ready To Fork. Actual Fork Or Silly Joke? What Do You Think? Check it out! …  \n",
       "4  RT @Crypticsup: #cryptics #crowdsale #bitcoin  #ico BTC/USD + ETH/USD and other coins forecast for 27.10.2017 – Cryptics Blog https://t.co/…  \n",
       "5                  Create Bitcoin account (online wallet) From and Deposit Instant Banking PayPal etchttps: https://t.co/du6Fj7NdLj 28.10 04:44  "
      ]
     },
     "execution_count": 107,
     "metadata": {},
     "output_type": "execute_result"
    }
   ],
   "source": [
    "pd.set_option('max_colwidth',150)\n",
    "#df_en['text']\n",
    "df_en.head()"
   ]
  },
  {
   "cell_type": "code",
   "execution_count": 156,
   "metadata": {
    "collapsed": false
   },
   "outputs": [],
   "source": [
    "times = pd.DatetimeIndex(df_en['date'])\n",
    "grouped = df_en.groupby([times.hour, times.minute])['text'].agg(['count'])"
   ]
  },
  {
   "cell_type": "code",
   "execution_count": 164,
   "metadata": {
    "collapsed": false
   },
   "outputs": [
    {
     "data": {
      "text/plain": [
       "Index(['count'], dtype='object')"
      ]
     },
     "execution_count": 164,
     "metadata": {},
     "output_type": "execute_result"
    }
   ],
   "source": [
    "grouped.columns"
   ]
  },
  {
   "cell_type": "code",
   "execution_count": 21,
   "metadata": {
    "collapsed": true
   },
   "outputs": [],
   "source": [
    "df_en.to_csv('bitcoin_eng.csv') # this has all 4 bitcoins\n",
    "#get data from the csv directly instead of running it till now"
   ]
  },
  {
   "cell_type": "code",
   "execution_count": 100,
   "metadata": {
    "collapsed": false
   },
   "outputs": [],
   "source": [
    "from pycorenlp import StanfordCoreNLP"
   ]
  },
  {
   "cell_type": "code",
   "execution_count": 101,
   "metadata": {
    "collapsed": true
   },
   "outputs": [],
   "source": [
    "nlp = StanfordCoreNLP('http://localhost:9000')"
   ]
  },
  {
   "cell_type": "markdown",
   "metadata": {},
   "source": [
    "## Sample stanfordcoreNLP"
   ]
  },
  {
   "cell_type": "code",
   "execution_count": 24,
   "metadata": {
    "collapsed": false
   },
   "outputs": [
    {
     "name": "stdout",
     "output_type": "stream",
     "text": [
      "0: 'I love you .': 3 Positive\n",
      "1: 'I hate him .': 1 Negative\n",
      "2: 'You are nice .': 3 Positive\n",
      "3: 'He is dumb': 1 Negative\n"
     ]
    }
   ],
   "source": [
    "res = nlp.annotate(\"I love you. I hate him. You are nice. He is dumb\",\n",
    "                   properties={\n",
    "                       'annotators': 'sentiment',\n",
    "                       'outputFormat': 'json'\n",
    "                   })\n",
    "for s in res[\"sentences\"]:\n",
    "    print (\"%d: '%s': %s %s\" % (s[\"index\"],\" \".join([t[\"word\"] for t in s[\"tokens\"]]),s[\"sentimentValue\"], s[\"sentiment\"]))"
   ]
  },
  {
   "cell_type": "code",
   "execution_count": 102,
   "metadata": {
    "collapsed": false
   },
   "outputs": [],
   "source": [
    "#filtering the tweets\n",
    "#df_en.head()\n",
    "\n",
    "senti_val = []\n",
    "senti = []\n",
    "\n",
    "for line in df_en['text']:\n",
    "    res = nlp.annotate(line,\n",
    "                   properties={\n",
    "                       'annotators': 'sentiment',\n",
    "                       'outputFormat': 'json'\n",
    "                   })\n",
    "    senti_val.append(s[\"sentimentValue\"])\n",
    "    senti.append(s[\"sentiment\"])\n",
    "    "
   ]
  },
  {
   "cell_type": "code",
   "execution_count": 104,
   "metadata": {
    "collapsed": false
   },
   "outputs": [
    {
     "name": "stdout",
     "output_type": "stream",
     "text": [
      "{'Neutral'}\n"
     ]
    }
   ],
   "source": [
    "myset = set(senti)\n",
    "print (myset)"
   ]
  },
  {
   "cell_type": "code",
   "execution_count": 106,
   "metadata": {
    "collapsed": false
   },
   "outputs": [
    {
     "name": "stdout",
     "output_type": "stream",
     "text": [
      "{'2'}\n"
     ]
    }
   ],
   "source": [
    "print (set(senti_val))"
   ]
  },
  {
   "cell_type": "code",
   "execution_count": null,
   "metadata": {
    "collapsed": true
   },
   "outputs": [],
   "source": [
    "times = pd.DatetimeIndex(data.datetime_col)\n",
    "grouped = df.groupby([times.hour, times.minute])"
   ]
  },
  {
   "cell_type": "markdown",
   "metadata": {},
   "source": [
    "## Price of BTC"
   ]
  },
  {
   "cell_type": "code",
   "execution_count": 51,
   "metadata": {
    "collapsed": true
   },
   "outputs": [],
   "source": [
    "bitcoin_price = pd.read_csv('/Users/Madhu/Documents/Courses/data_bds/price_BTC_oct28.csv')"
   ]
  },
  {
   "cell_type": "code",
   "execution_count": 68,
   "metadata": {
    "collapsed": false
   },
   "outputs": [
    {
     "data": {
      "text/html": [
       "<div>\n",
       "<table border=\"1\" class=\"dataframe\">\n",
       "  <thead>\n",
       "    <tr style=\"text-align: right;\">\n",
       "      <th></th>\n",
       "      <th>Date</th>\n",
       "      <th>Open</th>\n",
       "      <th>High</th>\n",
       "      <th>Low</th>\n",
       "      <th>Close</th>\n",
       "    </tr>\n",
       "  </thead>\n",
       "  <tbody>\n",
       "    <tr>\n",
       "      <th>0</th>\n",
       "      <td>2017-10-26 00:00:00</td>\n",
       "      <td>5733.90</td>\n",
       "      <td>5734.67</td>\n",
       "      <td>5725.45</td>\n",
       "      <td>5723.00</td>\n",
       "    </tr>\n",
       "    <tr>\n",
       "      <th>1</th>\n",
       "      <td>2017-10-26 00:15:00</td>\n",
       "      <td>5723.00</td>\n",
       "      <td>5727.26</td>\n",
       "      <td>5712.41</td>\n",
       "      <td>5716.60</td>\n",
       "    </tr>\n",
       "    <tr>\n",
       "      <th>2</th>\n",
       "      <td>2017-10-26 00:30:00</td>\n",
       "      <td>5716.60</td>\n",
       "      <td>5719.82</td>\n",
       "      <td>5704.12</td>\n",
       "      <td>5708.61</td>\n",
       "    </tr>\n",
       "    <tr>\n",
       "      <th>3</th>\n",
       "      <td>2017-10-26 00:45:00</td>\n",
       "      <td>5708.61</td>\n",
       "      <td>5736.81</td>\n",
       "      <td>5708.61</td>\n",
       "      <td>5734.48</td>\n",
       "    </tr>\n",
       "    <tr>\n",
       "      <th>4</th>\n",
       "      <td>2017-10-26 01:00:00</td>\n",
       "      <td>5734.48</td>\n",
       "      <td>5736.24</td>\n",
       "      <td>5728.61</td>\n",
       "      <td>5736.31</td>\n",
       "    </tr>\n",
       "  </tbody>\n",
       "</table>\n",
       "</div>"
      ],
      "text/plain": [
       "                  Date     Open     High      Low    Close\n",
       "0  2017-10-26 00:00:00  5733.90  5734.67  5725.45  5723.00\n",
       "1  2017-10-26 00:15:00  5723.00  5727.26  5712.41  5716.60\n",
       "2  2017-10-26 00:30:00  5716.60  5719.82  5704.12  5708.61\n",
       "3  2017-10-26 00:45:00  5708.61  5736.81  5708.61  5734.48\n",
       "4  2017-10-26 01:00:00  5734.48  5736.24  5728.61  5736.31"
      ]
     },
     "execution_count": 68,
     "metadata": {},
     "output_type": "execute_result"
    }
   ],
   "source": [
    "bitcoin_price.head()"
   ]
  },
  {
   "cell_type": "code",
   "execution_count": 74,
   "metadata": {
    "collapsed": false
   },
   "outputs": [
    {
     "data": {
      "text/plain": [
       "datetime.datetime(2017, 10, 26, 0, 0)"
      ]
     },
     "execution_count": 74,
     "metadata": {},
     "output_type": "execute_result"
    }
   ],
   "source": [
    "datetime.datetime.strptime(bitcoin_price.iloc[0]['Date'],'%Y-%m-%d %H:%M:%S')"
   ]
  },
  {
   "cell_type": "code",
   "execution_count": 87,
   "metadata": {
    "collapsed": true
   },
   "outputs": [],
   "source": [
    "price_date_col = []\n",
    "vals = []\n",
    "\n",
    "for i in range(len(bitcoin_price)):\n",
    "    try:\n",
    "        price_date_col.append(datetime.datetime.strptime(bitcoin_price.iloc[i]['Date'],'%Y-%m-%d %H:%M:%S'))\n",
    "        vals.append(bitcoin_price.iloc[i]['Close'])\n",
    "    except:\n",
    "        continue\n"
   ]
  },
  {
   "cell_type": "code",
   "execution_count": 179,
   "metadata": {
    "collapsed": false
   },
   "outputs": [],
   "source": [
    "price_data = {'date': price_date_col, 'value': vals}\n",
    "price_df = pd.DataFrame(data=price_data)"
   ]
  },
  {
   "cell_type": "code",
   "execution_count": 186,
   "metadata": {
    "collapsed": false
   },
   "outputs": [
    {
     "data": {
      "text/plain": [
       "107    True\n",
       "108    True\n",
       "109    True\n",
       "202    True\n",
       "Name: date, dtype: bool"
      ]
     },
     "execution_count": 186,
     "metadata": {},
     "output_type": "execute_result"
    }
   ],
   "source": [
    "#price_df = price_df[\n",
    "\n",
    "price_df['date']>datetime.datetime(2017, 10, 27, 0, 0)\n"
   ]
  },
  {
   "cell_type": "code",
   "execution_count": 185,
   "metadata": {
    "collapsed": false
   },
   "outputs": [
    {
     "name": "stderr",
     "output_type": "stream",
     "text": [
      "/Users/Madhu/Downloads/softwares/anaconda3/lib/python3.5/site-packages/matplotlib/axes/_axes.py:519: UserWarning: No labelled objects found. Use label='...' kwarg on individual plots.\n",
      "  warnings.warn(\"No labelled objects found. \"\n"
     ]
    },
    {
     "data": {
      "image/png": "[encoded data removed]",
      "text/plain": [
       "<matplotlib.figure.Figure at 0x12a70bfd0>"
      ]
     },
     "metadata": {},
     "output_type": "display_data"
    }
   ],
   "source": [
    "import matplotlib.pyplot as plt\n",
    "import matplotlib\n",
    "import matplotlib.dates as mdates\n",
    "\n",
    "%matplotlib inline\n",
    "\n",
    "plt.gca().xaxis.set_major_formatter(mdates.DateFormatter('%Y-%m-%d %H:%M:%S'))\n",
    "plt.plot(price_date_col, vals,'b')\n",
    "plt.gcf().autofmt_xdate()\n",
    "plt.title('Acceleration X Time Series')\n",
    "plt.xlabel('Time (Sec)')\n",
    "plt.ylabel('Acceleration X')\n",
    "plt.legend()\n",
    "\n",
    "#bitcoin_price_.plot()"
   ]
  },
  {
   "cell_type": "markdown",
   "metadata": {},
   "source": [
    "Sample of grouping using date and count"
   ]
  },
  {
   "cell_type": "code",
   "execution_count": 180,
   "metadata": {
    "collapsed": false
   },
   "outputs": [],
   "source": [
    "price_df['date_tuple'] = price_df['date'].map(lambda x : (x.hour, x.minute))"
   ]
  },
  {
   "cell_type": "code",
   "execution_count": 181,
   "metadata": {
    "collapsed": false
   },
   "outputs": [],
   "source": [
    "price_df = price_df[price_df['date_tuple']>(2,30)]\n",
    "price_df = price_df[price_df['date_tuple']<(3,30)]"
   ]
  },
  {
   "cell_type": "code",
   "execution_count": 150,
   "metadata": {
    "collapsed": false
   },
   "outputs": [],
   "source": [
    "price_df.drop(['date'], axis = 1, inplace = True)"
   ]
  },
  {
   "cell_type": "code",
   "execution_count": 176,
   "metadata": {
    "collapsed": false
   },
   "outputs": [
    {
     "data": {
      "text/plain": [
       "<matplotlib.axes._subplots.AxesSubplot at 0x12d36a780>"
      ]
     },
     "execution_count": 176,
     "metadata": {},
     "output_type": "execute_result"
    },
    {
     "data": {
      "image/png": "[encoded data removed]",
      "text/plain": [
       "<matplotlib.figure.Figure at 0x12be81940>"
      ]
     },
     "metadata": {},
     "output_type": "display_data"
    },
    {
     "data": {
      "image/png": "[encoded data removed]",
      "text/plain": [
       "<matplotlib.figure.Figure at 0x12d18a0f0>"
      ]
     },
     "metadata": {},
     "output_type": "display_data"
    }
   ],
   "source": [
    "times = pd.DatetimeIndex(df_en['date'])\n",
    "grouped = df_en['text'].groupby([times.hour, times.minute]).agg(['count'])\n",
    "grouped.plot()\n",
    "#df_en.groupby(['date_tuple']).size().reset_index(name='counts')\n",
    "\n",
    "price_df.plot()"
   ]
  },
  {
   "cell_type": "code",
   "execution_count": 177,
   "metadata": {
    "collapsed": false
   },
   "outputs": [
    {
     "data": {
      "text/html": [
       "<div>\n",
       "<table border=\"1\" class=\"dataframe\">\n",
       "  <thead>\n",
       "    <tr style=\"text-align: right;\">\n",
       "      <th></th>\n",
       "      <th>value</th>\n",
       "      <th>date_tuple</th>\n",
       "    </tr>\n",
       "  </thead>\n",
       "  <tbody>\n",
       "    <tr>\n",
       "      <th>11</th>\n",
       "      <td>5738.14</td>\n",
       "      <td>(2, 45)</td>\n",
       "    </tr>\n",
       "    <tr>\n",
       "      <th>12</th>\n",
       "      <td>5729.53</td>\n",
       "      <td>(3, 0)</td>\n",
       "    </tr>\n",
       "    <tr>\n",
       "      <th>107</th>\n",
       "      <td>5930.61</td>\n",
       "      <td>(2, 45)</td>\n",
       "    </tr>\n",
       "    <tr>\n",
       "      <th>108</th>\n",
       "      <td>5919.23</td>\n",
       "      <td>(3, 0)</td>\n",
       "    </tr>\n",
       "    <tr>\n",
       "      <th>202</th>\n",
       "      <td>5783.28</td>\n",
       "      <td>(2, 45)</td>\n",
       "    </tr>\n",
       "  </tbody>\n",
       "</table>\n",
       "</div>"
      ],
      "text/plain": [
       "       value date_tuple\n",
       "11   5738.14    (2, 45)\n",
       "12   5729.53     (3, 0)\n",
       "107  5930.61    (2, 45)\n",
       "108  5919.23     (3, 0)\n",
       "202  5783.28    (2, 45)"
      ]
     },
     "execution_count": 177,
     "metadata": {},
     "output_type": "execute_result"
    }
   ],
   "source": [
    "plt.plot(price_df[],)"
   ]
  },
  {
   "cell_type": "code",
   "execution_count": 182,
   "metadata": {
    "collapsed": false
   },
   "outputs": [
    {
     "data": {
      "text/html": [
       "<div>\n",
       "<table border=\"1\" class=\"dataframe\">\n",
       "  <thead>\n",
       "    <tr style=\"text-align: right;\">\n",
       "      <th></th>\n",
       "      <th>date</th>\n",
       "      <th>value</th>\n",
       "      <th>date_tuple</th>\n",
       "    </tr>\n",
       "  </thead>\n",
       "  <tbody>\n",
       "    <tr>\n",
       "      <th>11</th>\n",
       "      <td>2017-10-26 02:45:00</td>\n",
       "      <td>5738.14</td>\n",
       "      <td>(2, 45)</td>\n",
       "    </tr>\n",
       "    <tr>\n",
       "      <th>12</th>\n",
       "      <td>2017-10-26 03:00:00</td>\n",
       "      <td>5729.53</td>\n",
       "      <td>(3, 0)</td>\n",
       "    </tr>\n",
       "    <tr>\n",
       "      <th>13</th>\n",
       "      <td>2017-10-26 03:15:00</td>\n",
       "      <td>5749.87</td>\n",
       "      <td>(3, 15)</td>\n",
       "    </tr>\n",
       "    <tr>\n",
       "      <th>107</th>\n",
       "      <td>2017-10-27 02:45:00</td>\n",
       "      <td>5930.61</td>\n",
       "      <td>(2, 45)</td>\n",
       "    </tr>\n",
       "    <tr>\n",
       "      <th>108</th>\n",
       "      <td>2017-10-27 03:00:00</td>\n",
       "      <td>5919.23</td>\n",
       "      <td>(3, 0)</td>\n",
       "    </tr>\n",
       "    <tr>\n",
       "      <th>109</th>\n",
       "      <td>2017-10-27 03:15:00</td>\n",
       "      <td>5921.86</td>\n",
       "      <td>(3, 15)</td>\n",
       "    </tr>\n",
       "    <tr>\n",
       "      <th>202</th>\n",
       "      <td>2017-10-28 02:45:00</td>\n",
       "      <td>5783.28</td>\n",
       "      <td>(2, 45)</td>\n",
       "    </tr>\n",
       "  </tbody>\n",
       "</table>\n",
       "</div>"
      ],
      "text/plain": [
       "                   date    value date_tuple\n",
       "11  2017-10-26 02:45:00  5738.14    (2, 45)\n",
       "12  2017-10-26 03:00:00  5729.53     (3, 0)\n",
       "13  2017-10-26 03:15:00  5749.87    (3, 15)\n",
       "107 2017-10-27 02:45:00  5930.61    (2, 45)\n",
       "108 2017-10-27 03:00:00  5919.23     (3, 0)\n",
       "109 2017-10-27 03:15:00  5921.86    (3, 15)\n",
       "202 2017-10-28 02:45:00  5783.28    (2, 45)"
      ]
     },
     "execution_count": 182,
     "metadata": {},
     "output_type": "execute_result"
    }
   ],
   "source": [
    "price_df"
   ]
  },
  {
   "cell_type": "code",
   "execution_count": null,
   "metadata": {
    "collapsed": true
   },
   "outputs": [],
   "source": []
  }
 ],
 "metadata": {
  "anaconda-cloud": {},
  "kernelspec": {
   "display_name": "Python [Root]",
   "language": "python",
   "name": "Python [Root]"
  },
  "language_info": {
   "codemirror_mode": {
    "name": "ipython",
    "version": 3
   },
   "file_extension": ".py",
   "mimetype": "text/x-python",
   "name": "python",
   "nbconvert_exporter": "python",
   "pygments_lexer": "ipython3",
   "version": "3.5.2"
  }
 },
 "nbformat": 4,
 "nbformat_minor": 2
}
