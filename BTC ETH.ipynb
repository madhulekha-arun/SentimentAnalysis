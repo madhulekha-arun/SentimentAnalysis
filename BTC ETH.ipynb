{
 "cells": [
  {
   "cell_type": "markdown",
   "metadata": {
    "collapsed": true
   },
   "source": [
    "# Processing data"
   ]
  },
  {
   "cell_type": "markdown",
   "metadata": {},
   "source": [
    "Read data already collected"
   ]
  },
  {
   "cell_type": "code",
   "execution_count": 17,
   "metadata": {
    "collapsed": false
   },
   "outputs": [],
   "source": [
    "import json\n",
    "import time\n",
    "import datetime\n",
    "import pandas as pd\n",
    "import numpy as np\n",
    "\n",
    "tweets_data_morn = '/Users/Madhu/Documents/Courses/data_bds/bitcoin'\n",
    "tweets_data_eve = '/Users/Madhu/Documents/Courses/data_bds/bitcoin2'\n",
    "\n",
    "tweets_data_m = []\n",
    "tweets_data_e = []\n",
    "\n",
    "tweets_file = open(tweets_data_morn, \"r\")\n",
    "for line in tweets_file:\n",
    "    try:\n",
    "        tweet = json.loads(line)\n",
    "        tweets_data_m.append(tweet)\n",
    "    except:\n",
    "        continue\n",
    "        \n",
    "tweets_file = open(tweets_data_eve, \"r\")\n",
    "for line in tweets_file:\n",
    "    try:\n",
    "        tweet = json.loads(line)\n",
    "        tweets_data_e.append(tweet)\n",
    "    except:\n",
    "        continue\n"
   ]
  },
  {
   "cell_type": "code",
   "execution_count": 18,
   "metadata": {
    "collapsed": false
   },
   "outputs": [
    {
     "name": "stdout",
     "output_type": "stream",
     "text": [
      "8035\n"
     ]
    }
   ],
   "source": [
    "print (len(tweets_data_m))"
   ]
  },
  {
   "cell_type": "code",
   "execution_count": 19,
   "metadata": {
    "collapsed": false
   },
   "outputs": [
    {
     "name": "stdout",
     "output_type": "stream",
     "text": [
      "23055\n"
     ]
    }
   ],
   "source": [
    "print (len(tweets_data_e))"
   ]
  },
  {
   "cell_type": "code",
   "execution_count": 22,
   "metadata": {
    "collapsed": false
   },
   "outputs": [
    {
     "data": {
      "text/plain": [
       "'Fri Oct 20 18:07:48 +0000 2017'"
      ]
     },
     "execution_count": 22,
     "metadata": {},
     "output_type": "execute_result"
    }
   ],
   "source": [
    "tweets_data_e[0]['created_at']"
   ]
  },
  {
   "cell_type": "code",
   "execution_count": 29,
   "metadata": {
    "collapsed": false
   },
   "outputs": [],
   "source": [
    "date_col = []\n",
    "lang = []\n",
    "text = []\n",
    "\n",
    "for line in tweets_data_e:\n",
    "    try:\n",
    "        date_col.append(datetime.datetime.strptime(line['created_at'],'%a %b %d %H:%M:%S +0000 %Y'))\n",
    "        lang.append(line['lang'])\n",
    "        text.append(line['text'])\n",
    "    except:\n",
    "        continue"
   ]
  },
  {
   "cell_type": "code",
   "execution_count": 33,
   "metadata": {
    "collapsed": false
   },
   "outputs": [],
   "source": [
    "d = {'date': date_col, 'lang': lang, 'text':text}\n",
    "df = pd.DataFrame(data=d)"
   ]
  },
  {
   "cell_type": "code",
   "execution_count": 34,
   "metadata": {
    "collapsed": false
   },
   "outputs": [
    {
     "data": {
      "text/html": [
       "<div>\n",
       "<table border=\"1\" class=\"dataframe\">\n",
       "  <thead>\n",
       "    <tr style=\"text-align: right;\">\n",
       "      <th></th>\n",
       "      <th>date</th>\n",
       "      <th>lang</th>\n",
       "      <th>text</th>\n",
       "    </tr>\n",
       "  </thead>\n",
       "  <tbody>\n",
       "    <tr>\n",
       "      <th>0</th>\n",
       "      <td>2017-10-20 18:07:48</td>\n",
       "      <td>es</td>\n",
       "      <td>RT @CryptoLionTeam: $PTOY #PTOY / #BTC https:/...</td>\n",
       "    </tr>\n",
       "    <tr>\n",
       "      <th>1</th>\n",
       "      <td>2017-10-20 18:07:50</td>\n",
       "      <td>tr</td>\n",
       "      <td>Sınav sistemi açıklandıktan 10 dakika sonra fo...</td>\n",
       "    </tr>\n",
       "    <tr>\n",
       "      <th>2</th>\n",
       "      <td>2017-10-20 18:07:50</td>\n",
       "      <td>und</td>\n",
       "      <td>La Lingua neo-borbonica https://t.co/lPTUIQuVN7</td>\n",
       "    </tr>\n",
       "    <tr>\n",
       "      <th>3</th>\n",
       "      <td>2017-10-20 18:07:51</td>\n",
       "      <td>tr</td>\n",
       "      <td>RT @FelsefeYks: #FelsefesizOlmaz felsefe sınav...</td>\n",
       "    </tr>\n",
       "    <tr>\n",
       "      <th>4</th>\n",
       "      <td>2017-10-20 18:07:51</td>\n",
       "      <td>es</td>\n",
       "      <td>@UPYD @ivanrodig Los refugiados de mediterráne...</td>\n",
       "    </tr>\n",
       "  </tbody>\n",
       "</table>\n",
       "</div>"
      ],
      "text/plain": [
       "                 date lang                                               text\n",
       "0 2017-10-20 18:07:48   es  RT @CryptoLionTeam: $PTOY #PTOY / #BTC https:/...\n",
       "1 2017-10-20 18:07:50   tr  Sınav sistemi açıklandıktan 10 dakika sonra fo...\n",
       "2 2017-10-20 18:07:50  und    La Lingua neo-borbonica https://t.co/lPTUIQuVN7\n",
       "3 2017-10-20 18:07:51   tr  RT @FelsefeYks: #FelsefesizOlmaz felsefe sınav...\n",
       "4 2017-10-20 18:07:51   es  @UPYD @ivanrodig Los refugiados de mediterráne..."
      ]
     },
     "execution_count": 34,
     "metadata": {},
     "output_type": "execute_result"
    }
   ],
   "source": [
    "df.head()"
   ]
  },
  {
   "cell_type": "code",
   "execution_count": 36,
   "metadata": {
    "collapsed": false
   },
   "outputs": [],
   "source": [
    "df_en = df[df['lang']=='en']"
   ]
  },
  {
   "cell_type": "code",
   "execution_count": 42,
   "metadata": {
    "collapsed": false
   },
   "outputs": [
    {
     "data": {
      "text/plain": [
       "5                           #dellservice_eth dellservice.eth listed for 100 ETH by honeyfat2907@gmail.com at #enslisting. Bid now @ https://t.co/EfkWKw7Xhx\n",
       "6                                                         like we understand that he the first brown boy to get it poppin... lmao 😂 https://t.co/0iPcJhQ4J1\n",
       "9                       Confideal Announces New Partnership with https://t.co/mp5NIDv6ze https://t.co/2zTg3n0eg6 #bitcoin #bitcoinnews #btc #cryptocurrency\n",
       "12                                                                                     Subscribe Neo News Web: Like Us: Twitter:... https://t.co/lCCvszVKFj\n",
       "13               RT @RachelMaxi: Three Neo-Nazis Were Just Arrested After Opening Fire On Protesters At Richard Spencer UF Speech … https://t.co/47xGkzUZhN\n",
       "14                            Exchanges\\na/ Bitmex (leveraged $BTC trading): https://t.co/mfjCRFKHGu\\nb/ 1broker (copy trade $BTC): https://t.co/MrUqSLUWPp\n",
       "17                                                                                                            RT @KameronBennett: Nav sucks. Im sorry 🤷🏽‍♂️\n",
       "18                                                         9 Benefits of Microsoft Dynamics NAV 2017 Manufacturing https://t.co/n5V60BvS2i @MSDynamics_News\n",
       "20                                                         9 Benefits of Microsoft Dynamics NAV 2017 Manufacturing https://t.co/E664pxj7Tu @MSDynamics_News\n",
       "24             RT @Complex: RT to bless a timeline with this gorgeous photo of a neo-nazi getting punched in the face 😍https://t.co/FnDqjmDSSB https://t.c…\n",
       "25                                                                                                                 Brooo I’m salty. https://t.co/k6vYGulXRF\n",
       "28                                                                                                            RT @KameronBennett: Nav sucks. Im sorry 🤷🏽‍♂️\n",
       "30                                  Smart Contract standards and risk mangement https://t.co/IyM6clr2Ba #Eth #Ethereum  #Quantstamp https://t.co/5tevOOyxkB\n",
       "32             RT @BoingBoing: Three of Spencer's neo-Nazi supporters arrested after shooting wildly at bus-goers https://t.co/L2OgUDx6uO https://t.co/bvz…\n",
       "33                           RT @BTCNewsletter: 👨‍💻 Start Bitcoin #university. Bitcoin and Cryptocurrency Technologies Learn more 👉 https://t.co/gl8pBLPNTX\n",
       "39                                  Daily Ethereum Price Forecast – ETH Poised for 29% Upside After Hard Fork\\nhttps://t.co/ZvGo1QqLVi\\n$BTC #BTC $ETH #ETH\n",
       "44              Recommending to SELL $PTOY after management team misleads ALL investors for weeks regarding FDA submission. #NOTOK… https://t.co/TY6uX53CZU\n",
       "49                  (Neo-Nazis) Steve Bannon's speech to the California GOP tonight has some Republicans nervous- Los Angeles Times https://t.co/XIqfGWTZRH\n",
       "50                     @TamiErinReal Can you prove that speech happened became I can't find one bit of proof that it did. And...would you prefer neo-nazis?\n",
       "51             RT @Andy_Hoffman_CG: Remember, $6,000 BTC is exactly a $100 bil mkt cap.  At this level, ALL institutions, municipalities, Central banks, a…\n",
       "53             RT @game_developers: Bitcoinsolution: #IndieGame #GameDev #IndieDev #IndieGameDev #Gaming#VideoGames NEED TO USE #BTC #Bitcoin #altcoin… ht…\n",
       "55             RT @Complex: RT to bless a timeline with this gorgeous photo of a neo-nazi getting punched in the face 😍https://t.co/FnDqjmDSSB https://t.c…\n",
       "56                                                                       RT @CoinmeATM: Another week, another milestone for #BTC\\n\\nhttps://t.co/eqwbEJUdTG\n",
       "59               If I had a #bitcoin for every time I regret that I didn't buy $btc \"last year\" I'd have so much btc that I wouldn't regret anymore #Crypto\n",
       "60                                                  Confideal Announces New Partnership with https://t.co/Br7pQW6qrq: https://t.co/nJl3TWZo7r #bitcoin #btc\n",
       "62                                               Navigato real world IOT device powered by IOTA at Autonomy with Dom: https://t.co/VC2EQzrTjS #bitcoin #btc\n",
       "64                 RT @BitcoinGatherer: Bitcoin on eBay: (0.01Bitcoin (.01 BTC)  Longtime Trusted Seller! ...) - https://t.co/gfPv02KsMd #bitcoin #bAgile… \n",
       "66             RT @CryptoSpectre: 204 followers until  my next .02 btw giveaway! Retweet this and follow for a chance to win! $btc $crypto $eth $mona $uno…\n",
       "67             RT @BitcoinMagazine: Our latest #Bitcoin price analysis: Potential Wyckoff Distribution May Spring New All-Time Highs https://t.co/adiKpwkn…\n",
       "68            RT @808BassCoin: 808 Giveaway! #retweet &amp; reply with your 808 address, 10 winner's will be drawn!\\n.\\n.\\n.\\n.\\n.\\n.\\n#giveaway #bitcoin… \n",
       "                                                                                ...                                                                        \n",
       "22938                   RT @aantonop: Agreed. I say the blockchain as the artefact of consensus. The innovation is decentralized consensus, the blockchai… \n",
       "22940                              RT @BIT_COIN_ICO: STARTING WITH SMALL GIVEAWAY. RETWEET AND FOLLOW TO WIN 1000 DOGECOINS. HAPPY EARNING. #btc #giveaway.\n",
       "22943          RT @Complex: Neo-Nazis and Richard Spencer supporters arrested on attempted homicide charges https://t.co/w27ev4MLQq https://t.co/PItKjyMRq7\n",
       "22946                   RT @IGD_News: Spencer's website declares victory after three neo-Nazis who attended #Gainesville event tried to murder people sta… \n",
       "22947                  RT @smartholdem: #SmartHoldem ANNBounty ENG https://t.co/JlQ98XYSFA #bounty #blockchain #cryptocurrency #bitcoin #poker #pokerroom… \n",
       "22948                                        @petertoddbtc @VinnyLingham Begin: Eth = (Eth / ICOs) = (1 token x 100) + high risk + $$$ .. Final = Begin Eth\n",
       "22949                                                                         BBC News - Why a black man hugged a neo-Nazi skinhead https://t.co/3VVbGFINFm\n",
       "22950            @aj20033 @iamjosephyoung all ICO'ed projects are centralized no matter when. eth literally proved it with bailout. https://t.co/5Jmx6xfAFs\n",
       "22951                                         @GettyImagesNews We had neo-nazi punshing people at a book fair in germany this year: https://t.co/pHZIeTeaoE\n",
       "22953                             RT @intifada: White supremacists and neo-Nazis in US and Europe are increasingly open about their admiration for Israel… \n",
       "22954             RT @TriForceTokens: TriForce Tokens PRE-SALE starts in 4 days - Subscribe for email updates here -&gt; https://t.co/GS9UqK3Gex  #gaming… \n",
       "22955                                           Bitcoin sitting on 6000.00 Thank you Jamie! $XBTUSD 100 x the love leveraged style $BTC #crypto #jamiedimon\n",
       "22956                                          #ad New Unifive Neo Action Figure Android Kikaider THE ANIMATION JAPAN Free Shipping https://t.co/ANCVxTAJwe\n",
       "22957                                            RT @aWebAnalysis: Bitcoin BTC Current Price:\\n$5972.54\\n1 Hour: 0.11 % | 24 Hours: 5.48 % | 7 Days: 5.48 %\n",
       "22958    RT @chrismaddern: Time to $1k increase in BTC value 💸\\n\\n0 - $1k: 8 years\\n$1k - $2k: 4.5mo\\n$2k - $3k: 2.5mo\\n$3k - $4k: 8 days\\n$4k - $5k: 2 mo…\n",
       "22961                             Have to make common cause against neo-Khalistani groups seeking to up their activities in Punjab? https://t.co/4EfK1WsUPf\n",
       "22963          RT @MaxBlumenthal: While pro-Israel donor @AdamMilstein posts anti-Semitic propaganda, Richard Spencer turns to Israel for guidance https:/…\n",
       "22966          RT @ThatCryptoKid: Today's giveaway is 0.4 BTC (value $2270) retweet this and follow me to win! #bitcoin #giveaway #cryptocurrency #litecoi…\n",
       "22967                      RT @MingoCoin: LESS THAN 3 DAYS!! Get your 25% bonus tokens before the Mingo #presale Ends on Oct 23rd https://t.co/Xc372Yr7fF… \n",
       "22968                                            RT @BuahMerahMixEN: $Flik is Delicious! 🐋☘️\\n\\n#BTC #ETH #XRP #XVG #REC #Flik $BTC https://t.co/1bnud0tULc\n",
       "22969                  @mykronoz the #zetime is beautiful and works great with the #blockfolio notifications! $btc on a #smartwatch https://t.co/ExNOsIeCub\n",
       "22972                            RT @Coin_Lancer: What are you up to this #weekend ? \\nCheck out our #ICO click here to register: https://t.co/4Vd2071loB… \n",
       "22973          RT @AliAbunimah: Israel is the \"most important and perhaps most revolutionary ethno-state,\" gushes Nazi scum Richard Spencer https://t.co/6…\n",
       "22977            RT @MelanCruzz: Three Neo-Nazis Were Just Arrested After Opening Fire On Protesters At Richard Spencer UF Speech … https://t.co/ETTbzCUhXL\n",
       "22978                    RT @smartholdem: #SmartHoldem Decentralized Anonymity Poker-Room #ProofOfStake #blockchain #bitcoin #btc #pos #poker #technology… \n",
       "22979      RT @No_Nazis_Please: 2/2 perps. There's a small group of neo-nazis who travel for these rallies. Photo &amp; video; we can lock them all up. ht…\n",
       "22981                   RT @IGD_News: Spencer's website declares victory after three neo-Nazis who attended #Gainesville event tried to murder people sta… \n",
       "22984                                BTC - New Top in progress - Testing of the resistance line Read more at: https://t.co/GnvWaBMEOX #trading #speculating\n",
       "22986       I know one thing &amp; one thing only:\\n\\nI don't wanna be that guy who sells my coins, misses the 🚀. Loads of regret. Hodl $BTC $LTC $ETH $XRP\n",
       "22988                                                                                                      Earn 3.24 BTC in 51 Days https://t.co/rYqy89lNPQ\n",
       "Name: text, dtype: object"
      ]
     },
     "execution_count": 42,
     "metadata": {},
     "output_type": "execute_result"
    }
   ],
   "source": [
    "pd.set_option('max_colwidth',150)\n",
    "df_en['text']"
   ]
  },
  {
   "cell_type": "code",
   "execution_count": 43,
   "metadata": {
    "collapsed": true
   },
   "outputs": [],
   "source": [
    "df_en.to_csv('bitcoin_eng.csv') # this has all 4 bitcoins\n",
    "#get data from the csv directly instead of running it till now"
   ]
  },
  {
   "cell_type": "markdown",
   "metadata": {},
   "source": [
    "## Price of BTC"
   ]
  },
  {
   "cell_type": "code",
   "execution_count": 51,
   "metadata": {
    "collapsed": true
   },
   "outputs": [],
   "source": [
    "bitcoin_price = pd.read_csv('/Users/Madhu/Documents/Courses/data_bds/BTC_20.csv')"
   ]
  },
  {
   "cell_type": "code",
   "execution_count": 53,
   "metadata": {
    "collapsed": false
   },
   "outputs": [
    {
     "data": {
      "text/html": [
       "<div>\n",
       "<table border=\"1\" class=\"dataframe\">\n",
       "  <thead>\n",
       "    <tr style=\"text-align: right;\">\n",
       "      <th></th>\n",
       "      <th>Date</th>\n",
       "      <th>Close Price</th>\n",
       "    </tr>\n",
       "  </thead>\n",
       "  <tbody>\n",
       "    <tr>\n",
       "      <th>0</th>\n",
       "      <td>10/20/17 0:00</td>\n",
       "      <td>5699.58</td>\n",
       "    </tr>\n",
       "    <tr>\n",
       "      <th>1</th>\n",
       "      <td>10/20/17 0:01</td>\n",
       "      <td>5699.40</td>\n",
       "    </tr>\n",
       "    <tr>\n",
       "      <th>2</th>\n",
       "      <td>10/20/17 0:02</td>\n",
       "      <td>5700.21</td>\n",
       "    </tr>\n",
       "    <tr>\n",
       "      <th>3</th>\n",
       "      <td>10/20/17 0:03</td>\n",
       "      <td>5700.17</td>\n",
       "    </tr>\n",
       "    <tr>\n",
       "      <th>4</th>\n",
       "      <td>10/20/17 0:04</td>\n",
       "      <td>5701.31</td>\n",
       "    </tr>\n",
       "  </tbody>\n",
       "</table>\n",
       "</div>"
      ],
      "text/plain": [
       "            Date  Close Price\n",
       "0  10/20/17 0:00      5699.58\n",
       "1  10/20/17 0:01      5699.40\n",
       "2  10/20/17 0:02      5700.21\n",
       "3  10/20/17 0:03      5700.17\n",
       "4  10/20/17 0:04      5701.31"
      ]
     },
     "execution_count": 53,
     "metadata": {},
     "output_type": "execute_result"
    }
   ],
   "source": [
    "bitcoin_price.head()"
   ]
  },
  {
   "cell_type": "markdown",
   "metadata": {},
   "source": [
    "Sample of grouping using date and count"
   ]
  },
  {
   "cell_type": "code",
   "execution_count": null,
   "metadata": {
    "collapsed": true
   },
   "outputs": [],
   "source": [
    "grp = data.groupby(by=[data.datetime_col.map(lambda x : (x.hour, x.minute))])\n",
    "grp.count()"
   ]
  }
 ],
 "metadata": {
  "anaconda-cloud": {},
  "kernelspec": {
   "display_name": "Python [py3k]",
   "language": "python",
   "name": "Python [py3k]"
  },
  "language_info": {
   "codemirror_mode": {
    "name": "ipython",
    "version": 3
   },
   "file_extension": ".py",
   "mimetype": "text/x-python",
   "name": "python",
   "nbconvert_exporter": "python",
   "pygments_lexer": "ipython3",
   "version": "3.5.2"
  }
 },
 "nbformat": 4,
 "nbformat_minor": 2
}
