{
 "cells": [
  {
   "cell_type": "markdown",
   "metadata": {
    "collapsed": true
   },
   "source": [
    "# Processing data"
   ]
  },
  {
   "cell_type": "markdown",
   "metadata": {},
   "source": [
    "Read data already collected"
   ]
  },
  {
   "cell_type": "code",
   "execution_count": 35,
   "metadata": {
    "collapsed": false
   },
   "outputs": [],
   "source": [
    "import json\n",
    "import time\n",
    "import datetime\n",
    "import pandas as pd\n",
    "import numpy as np\n",
    "\n",
    "tweets_data_morn = '/Users/Madhu/Documents/Courses/data_bds/bitcoin'\n",
    "tweets_data_eve = '/Users/Madhu/Documents/Courses/data_bds/btctwitter'\n",
    "\n",
    "tweets_data_m = []\n",
    "tweets_data_e = []\n",
    "\n",
    "tweets_file = open(tweets_data_morn, \"r\")\n",
    "for line in tweets_file:\n",
    "    try:\n",
    "        tweet = json.loads(line)\n",
    "        tweets_data_m.append(tweet)\n",
    "    except:\n",
    "        continue\n",
    "        \n",
    "tweets_file = open(tweets_data_eve, \"r\")\n",
    "for line in tweets_file:\n",
    "    try:\n",
    "        tweet = json.loads(line)\n",
    "        tweets_data_e.append(tweet)\n",
    "    except:\n",
    "        continue\n"
   ]
  },
  {
   "cell_type": "code",
   "execution_count": 36,
   "metadata": {
    "collapsed": false
   },
   "outputs": [
    {
     "name": "stdout",
     "output_type": "stream",
     "text": [
      "8035\n"
     ]
    }
   ],
   "source": [
    "print (len(tweets_data_m))"
   ]
  },
  {
   "cell_type": "code",
   "execution_count": 37,
   "metadata": {
    "collapsed": false
   },
   "outputs": [
    {
     "name": "stdout",
     "output_type": "stream",
     "text": [
      "1415\n"
     ]
    }
   ],
   "source": [
    "print (len(tweets_data_e))"
   ]
  },
  {
   "cell_type": "code",
   "execution_count": 38,
   "metadata": {
    "collapsed": false
   },
   "outputs": [
    {
     "data": {
      "text/plain": [
       "'Sat Oct 28 01:33:58 +0000 2017'"
      ]
     },
     "execution_count": 38,
     "metadata": {},
     "output_type": "execute_result"
    }
   ],
   "source": [
    "tweets_data_e[0]['created_at']"
   ]
  },
  {
   "cell_type": "code",
   "execution_count": 39,
   "metadata": {
    "collapsed": false
   },
   "outputs": [],
   "source": [
    "date_col = []\n",
    "lang = []\n",
    "text = []\n",
    "\n",
    "for line in tweets_data_e:\n",
    "    try:\n",
    "        date_col.append(datetime.datetime.strptime(line['created_at'],'%a %b %d %H:%M:%S +0000 %Y'))\n",
    "        lang.append(line['lang'])\n",
    "        text.append(line['text'])\n",
    "    except:\n",
    "        continue"
   ]
  },
  {
   "cell_type": "code",
   "execution_count": 40,
   "metadata": {
    "collapsed": false
   },
   "outputs": [],
   "source": [
    "d = {'date': date_col, 'lang': lang, 'text':text}\n",
    "df = pd.DataFrame(data=d)"
   ]
  },
  {
   "cell_type": "code",
   "execution_count": 41,
   "metadata": {
    "collapsed": false
   },
   "outputs": [
    {
     "data": {
      "text/html": [
       "<div>\n",
       "<table border=\"1\" class=\"dataframe\">\n",
       "  <thead>\n",
       "    <tr style=\"text-align: right;\">\n",
       "      <th></th>\n",
       "      <th>date</th>\n",
       "      <th>lang</th>\n",
       "      <th>text</th>\n",
       "    </tr>\n",
       "  </thead>\n",
       "  <tbody>\n",
       "    <tr>\n",
       "      <th>0</th>\n",
       "      <td>2017-10-28 01:33:58</td>\n",
       "      <td>en</td>\n",
       "      <td>RT @svetlan31125165: Join our team\\n\\nhttps://t.co/NH6aFCJhws\\n\\n$KMD $OKCash $BCC $XVG $OMG $QTUM $STRAT $DASH $ETH $LUN $DGB $LTC $XRP…</td>\n",
       "    </tr>\n",
       "    <tr>\n",
       "      <th>1</th>\n",
       "      <td>2017-10-28 01:33:57</td>\n",
       "      <td>en</td>\n",
       "      <td>RT @AiSynapse: Watch our new video explaining how we are democratizing data and AI on the blockchain https://t.co/a0YLViqSmp #ai #ico #bloc…</td>\n",
       "    </tr>\n",
       "    <tr>\n",
       "      <th>2</th>\n",
       "      <td>2017-10-28 01:33:58</td>\n",
       "      <td>en</td>\n",
       "      <td>RT @intuitecon: Comp article on why #Bitcoin &amp;amp; #Ether have real value.\\n\\n#Ethereum #Ether $BTC $ETH #Fintech $SPY #AI $LTC $QQQ $USD…</td>\n",
       "    </tr>\n",
       "    <tr>\n",
       "      <th>3</th>\n",
       "      <td>2017-10-28 01:33:59</td>\n",
       "      <td>en</td>\n",
       "      <td>RT @StevenJnsen: Want to chance win giveaway 5 $ETH?\\n1. Register at here https://t.co/FwtKC0GCPY\\n2. Follow &amp;amp; retweet at this…</td>\n",
       "    </tr>\n",
       "    <tr>\n",
       "      <th>4</th>\n",
       "      <td>2017-10-28 01:34:00</td>\n",
       "      <td>en</td>\n",
       "      <td>RT @reach2ratan: #Blockchain for #Cybersecurity\\nv/ @BlockArmour\\n#Fintech #makeyourownlane #Mpgvip #cryptocurrency #cybersecurity…</td>\n",
       "    </tr>\n",
       "  </tbody>\n",
       "</table>\n",
       "</div>"
      ],
      "text/plain": [
       "                 date lang  \\\n",
       "0 2017-10-28 01:33:58   en   \n",
       "1 2017-10-28 01:33:57   en   \n",
       "2 2017-10-28 01:33:58   en   \n",
       "3 2017-10-28 01:33:59   en   \n",
       "4 2017-10-28 01:34:00   en   \n",
       "\n",
       "                                                                                                                                           text  \n",
       "0    RT @svetlan31125165: Join our team\\n\\nhttps://t.co/NH6aFCJhws\\n\\n$KMD $OKCash $BCC $XVG $OMG $QTUM $STRAT $DASH $ETH $LUN $DGB $LTC $XRP…   \n",
       "1  RT @AiSynapse: Watch our new video explaining how we are democratizing data and AI on the blockchain https://t.co/a0YLViqSmp #ai #ico #bloc…  \n",
       "2   RT @intuitecon: Comp article on why #Bitcoin &amp; #Ether have real value.\\n\\n#Ethereum #Ether $BTC $ETH #Fintech $SPY #AI $LTC $QQQ $USD…   \n",
       "3          RT @StevenJnsen: Want to chance win giveaway 5 $ETH?\\n1. Register at here https://t.co/FwtKC0GCPY\\n2. Follow &amp; retweet at this…   \n",
       "4          RT @reach2ratan: #Blockchain for #Cybersecurity\\nv/ @BlockArmour\\n#Fintech #makeyourownlane #Mpgvip #cryptocurrency #cybersecurity…   "
      ]
     },
     "execution_count": 41,
     "metadata": {},
     "output_type": "execute_result"
    }
   ],
   "source": [
    "df.head()"
   ]
  },
  {
   "cell_type": "code",
   "execution_count": 42,
   "metadata": {
    "collapsed": false
   },
   "outputs": [],
   "source": [
    "df_en = df[df['lang']=='en']"
   ]
  },
  {
   "cell_type": "code",
   "execution_count": 43,
   "metadata": {
    "collapsed": false
   },
   "outputs": [
    {
     "data": {
      "text/plain": [
       "0              RT @svetlan31125165: Join our team\\n\\nhttps://t.co/NH6aFCJhws\\n\\n$KMD $OKCash $BCC $XVG $OMG $QTUM $STRAT $DASH $ETH $LUN $DGB $LTC $XRP… \n",
       "1            RT @AiSynapse: Watch our new video explaining how we are democratizing data and AI on the blockchain https://t.co/a0YLViqSmp #ai #ico #bloc…\n",
       "2             RT @intuitecon: Comp article on why #Bitcoin &amp; #Ether have real value.\\n\\n#Ethereum #Ether $BTC $ETH #Fintech $SPY #AI $LTC $QQQ $USD… \n",
       "3                    RT @StevenJnsen: Want to chance win giveaway 5 $ETH?\\n1. Register at here https://t.co/FwtKC0GCPY\\n2. Follow &amp; retweet at this… \n",
       "4                    RT @reach2ratan: #Blockchain for #Cybersecurity\\nv/ @BlockArmour\\n#Fintech #makeyourownlane #Mpgvip #cryptocurrency #cybersecurity… \n",
       "5                             Global Crypto Wallet for POS. https://t.co/JXTr8NiJxu #sanFransico #perth #godblessamerica #france… https://t.co/ITD3oaEVrK\n",
       "6                                    $XLM 🚀 19 +3.37%  🕐 in the last 24 hours 💵 BTC 0.00000582 / USD 0.0342 🔔 #XLM Telegram Bot ⬇ https://t.co/x2IFU1I5bl\n",
       "7                                                                 RT @Cointelegraph: Watch out Apple, #Bitcoin is coming for you. https://t.co/872ASrt2ro\n",
       "8                                                                                The End Of Easy Money Could Crush Bitcoin Prices https://t.co/tPMgYct8Wp\n",
       "11          RT @bitcy_biz: 🎃 Halloween design – Bitcy’s updates\\n#bitcynews #bounty26 #halloween #holiday #profit #btc #money #cash https://t.co/Sfy0dtW…\n",
       "12                                                 ￼\\n[ANN][PRE-SALE] CAVIAR: De-Risking Your Crypto Investments With Real Estate https://t.co/DgzqfFRVtg\n",
       "13                                RT @Egon_01: .@BitPay CEO @spair hints at possible #BitcoinCash acceptance\\nhttps://t.co/9c2B930MBJ #fintech #payment… \n",
       "14                                                                          RT @Blockchainlife: #Bitcoin a property and currency. https://t.co/pkNCbI29CZ\n",
       "15                RT @evankirstel: The advantages of #Cryptocurrency\\n#CyberSecurity #blockchain #Crypto #bitcoin  #Infosec #fintech #security #datasec… \n",
       "19          RT @kostenlosefilme: A small donation? I am young and need the money xD \\nBitcoin ( 135rmX26eRVNLxwkLcgAHUSHoLSYHtPzcS ) XRP( rB1za2ZVgDnNB7…\n",
       "20                                                    'The Company Behind Bitcoin #freebtc #getbtc free bitcoin #CashAppFriday https://t.co/xhHqbbK7wr ',\n",
       "22            RT @BitcoinWrld: 'A Real Bubble': Billionaire Warren Buffett Doubles Down on #Bitcoin Doubt https://t.co/4yya2BHqDg https://t.co/CjYhnpCLlb\n",
       "23                                                                                                            Thinking about shorting Bitcoin right now 💰\n",
       "24                                    RT @Wamzy_: I need all my crypto people to stop what you're doing and look at the genie lol https://t.co/GRF275tQPz\n",
       "25                              'A Real Bubble': Billionaire Warren Buffett Doubles Down on Bitcoin Doubt https://t.co/4aWI3ApSfO https://t.co/zHW8x3vxsl\n",
       "28              RT @tokenbox: More support for booming #cryptos: @Apple co-founder @Stevewoz claims #Bitcoin is better than gold. https://t.co/RM2QIIRldk\n",
       "30          RT @tokenbox: How to capitalize on the bearish #crypto market? Read the article about strategies profit when the price goes down!\\nhttps://t…\n",
       "31                      RT @FUBAR_BDHR: Something is Frightening this Friday night but it's sure not @TiffRoyal #live on @XotikaTV #bitcoin #Livestream… \n",
       "32                                                                                               Advice on liquidating 20K of BTC https://t.co/37N2oSDkSH\n",
       "33                   RT @StevenJnsen: Want to chance win giveaway 5 $ETH?\\n1. Register at here https://t.co/FwtKC0GCPY\\n2. Follow &amp; retweet at this… \n",
       "34                Whaaat? A crypto-token for gamers?! that's going to be awesome! @gameflip https://t.co/OuJp9KVWGw #Gameflip #FLIP #pre-sale #blockchain\n",
       "35           RT @CremeDeLaCrypto: @AriDavidPaul If its called off, it will remain on the \"fear list\".\\n\\nIf it happens and bitcoin proves its resilienc… \n",
       "36                                                                           Palm Beach Group Reveals $1 Million Bitcoin Giveaway https://t.co/vzeaJWwU8Y\n",
       "37              RT @Gameflip: We're proud to announce FLIP, the crypto-token for gamers! Meet Flip &amp; Win!\\n+ Tag a Friend\\n+ RT\\n+ Follow @Gameflip… \n",
       "38                                                             RT @zaoyang: 1/ How will the banking system be affected by crypto? https://t.co/p0Tf9A9UDh\n",
       "                                                                              ...                                                                        \n",
       "1379                                                                                            Hodling Of Bitcoin https://t.co/R18QyYT56Q #news #bitcoin\n",
       "1380                  RT @MikeTracy45: Giving away 1 $neo to @cryptosean18  for a putting effort to win $adx $tnt $ptoy $crb $strat $NEO$lbc $kore $edg… \n",
       "1381            Central Bank ... has been published on  - https://t.co/TE6Z5er6xU @tekyboy @tekypromo @mustangcoin @syeservices @piblockchain @uber_stuff\n",
       "1382         What it feels like to earn #bitcoin on a daily basis with https://t.co/JXTa8eJXXP (Available on Google Play) #money… https://t.co/pYGndDkKKY\n",
       "1383                     RT @iQuantChain: Congratulation! #IQT successfully went to Bitcoin trading part from testing trading part of ALLcoin.\\n\\nRead:… \n",
       "1385                                                              Thank you! received! 😊\\nYes, that would be great to catch up! 🙌 https://t.co/Ao3jr1HuyT\n",
       "1386             RT @motherboard: Check out this Bitcoin mining rig made out of 40 old Samsung Galaxy S5s https://t.co/WMKmKGa793 https://t.co/EcnWIh0TkA\n",
       "1388             RT @coin_coincoin: #airdrop #followback #bitcoin #faucet #freebitcoin #giveaway retweet and get special airdrop top 10 Bitcoin faucet:… \n",
       "1389    RT @FalconStocks: .\\nThe signals Market Makers send each other to move a stock:\\nhttps://t.co/edw9AGyFZ6\\n.\\n.\\n$BTC $CDII $PFWI $GEQU $ARNH $AP…\n",
       "1391                 RT @TheSwarmFund: Invest in real assets using blockchain!. Less than 5 hours left to purchase your tokens. https://t.co/LM5bb3wjiZ… \n",
       "1393                  @_ty13r @coin_artist @_MicheleSeven @CryptoNoobGirl @BOOBSNBITCOINS @Hotkatchina @BitcoinMagazine @LTBcoin… https://t.co/OQJzFl7vrS\n",
       "1394         RT @Vindyne8: Join #syscoin on @telegram and stay up to-date! https://t.co/2yW9eZyP1s $SYS #blockchain #fintech #bitcoin #baas https://t.co…\n",
       "1395         RT @Vindyne8: Join #syscoin on @telegram and stay up to-date! https://t.co/2yW9eZyP1s $SYS #blockchain #fintech #bitcoin #baas https://t.co…\n",
       "1396                                Top 3 open source #Cryptocurrencies (that aren’t #bitcoin) :: https://t.co/4UFmZrtiJx @cex_io https://t.co/ZRATcXpWMM\n",
       "1397         RT @Vindyne8: Join #syscoin on @telegram and stay up to-date! https://t.co/2yW9eZyP1s $SYS #blockchain #fintech #bitcoin #baas https://t.co…\n",
       "1398         RT @Vindyne8: Join #syscoin on @telegram and stay up to-date! https://t.co/2yW9eZyP1s $SYS #blockchain #fintech #bitcoin #baas https://t.co…\n",
       "1399         RT @Vindyne8: Join #syscoin on @telegram and stay up to-date! https://t.co/2yW9eZyP1s $SYS #blockchain #fintech #bitcoin #baas https://t.co…\n",
       "1400         RT @Vindyne8: Join #syscoin on @telegram and stay up to-date! https://t.co/2yW9eZyP1s $SYS #blockchain #fintech #bitcoin #baas https://t.co…\n",
       "1401        RT @crypto30index: #MONERO: #Bitcoin drawback 1/5: #Traceability of #transactions\\nhttps://t.co/9sxurWnRuc #fintech #iot #iiot @monerocurren…\n",
       "1402                                                                        Already invested in Btc and ETH, Whats next? https://t.co/u8MIEQHfB9 #altcoin\n",
       "1403                                              WOF: Bitcoin is booming, what are your thoughts on cryptocurrencies and mining? https://t.co/XWGHaaqCMJ\n",
       "1405         RT @philstockworld: Terrific Tuesday - Apple (AAPL) Tests $160 Again #BitCoin $AAPL $SPY $NFLX $USO #Oil -- https://t.co/ReiRF2xkCY https:/…\n",
       "1406             RT @IsaFX_Trading: #GIVEAWAY of 0.15 BTC; simply follow and retweet this post. Winner will be picked randomly among all RTs on October… \n",
       "1407                   The Robot can tell the price movements in the next few seconds, that's why it's easy to win much money very fast. #BestEA #Bitcoin\n",
       "1408                                Binance Promotes Crypto-Ecosystem Following its Promising Performance https://t.co/v2qlIn5YBM https://t.co/5BIOPByZIW\n",
       "1409                                                                                       https://t.co/o1tw36puHC ping QUOINE_SG https://t.co/rKdmEZSZkp\n",
       "1410                   The Robot can tell the price movements in the next few seconds, that's why it's easy to win much money very fast. #BestEA #Bitcoin\n",
       "1411                       The latest The Health Rocket Daily! https://t.co/zpqZ1iSsTH Thanks to @vincentmenezes @RebeccaAnCampos @HadyChahine # #bitcoin\n",
       "1412           RT @altcollector: Binance Announces New Features, alongside Successful Token Buyback https://t.co/2qNgAT4QUN #bitcoin #blockchain #fintech\n",
       "1413                RT @SatoshiLite: GBMiners (~2.5% of total BTC hashrate) stopped signaling for Segwit2x hardfork. First of many pools to realize the… \n",
       "Name: text, dtype: object"
      ]
     },
     "execution_count": 43,
     "metadata": {},
     "output_type": "execute_result"
    }
   ],
   "source": [
    "pd.set_option('max_colwidth',150)\n",
    "df_en['text']"
   ]
  },
  {
   "cell_type": "code",
   "execution_count": 21,
   "metadata": {
    "collapsed": true
   },
   "outputs": [],
   "source": [
    "df_en.to_csv('bitcoin_eng.csv') # this has all 4 bitcoins\n",
    "#get data from the csv directly instead of running it till now"
   ]
  },
  {
   "cell_type": "code",
   "execution_count": 22,
   "metadata": {
    "collapsed": false
   },
   "outputs": [],
   "source": [
    "from pycorenlp import StanfordCoreNLP"
   ]
  },
  {
   "cell_type": "code",
   "execution_count": 23,
   "metadata": {
    "collapsed": true
   },
   "outputs": [],
   "source": [
    "nlp = StanfordCoreNLP('http://localhost:9000')"
   ]
  },
  {
   "cell_type": "markdown",
   "metadata": {},
   "source": [
    "## Sample stanfordcoreNLP"
   ]
  },
  {
   "cell_type": "code",
   "execution_count": 24,
   "metadata": {
    "collapsed": false
   },
   "outputs": [
    {
     "name": "stdout",
     "output_type": "stream",
     "text": [
      "0: 'I love you .': 3 Positive\n",
      "1: 'I hate him .': 1 Negative\n",
      "2: 'You are nice .': 3 Positive\n",
      "3: 'He is dumb': 1 Negative\n"
     ]
    }
   ],
   "source": [
    "res = nlp.annotate(\"I love you. I hate him. You are nice. He is dumb\",\n",
    "                   properties={\n",
    "                       'annotators': 'sentiment',\n",
    "                       'outputFormat': 'json'\n",
    "                   })\n",
    "for s in res[\"sentences\"]:\n",
    "    print (\"%d: '%s': %s %s\" % (s[\"index\"],\" \".join([t[\"word\"] for t in s[\"tokens\"]]),s[\"sentimentValue\"], s[\"sentiment\"]))"
   ]
  },
  {
   "cell_type": "code",
   "execution_count": 45,
   "metadata": {
    "collapsed": false
   },
   "outputs": [],
   "source": [
    "#filtering the tweets\n",
    "#df_en.head()\n",
    "\n",
    "senti_val = []\n",
    "senti = []\n",
    "\n",
    "for line in df_en['text']:\n",
    "    res = nlp.annotate(line,\n",
    "                   properties={\n",
    "                       'annotators': 'sentiment',\n",
    "                       'outputFormat': 'json'\n",
    "                   })\n",
    "    senti_val.append(s[\"sentimentValue\"])\n",
    "    senti.append(s[\"sentiment\"])\n",
    "    "
   ]
  },
  {
   "cell_type": "code",
   "execution_count": 50,
   "metadata": {
    "collapsed": false
   },
   "outputs": [
    {
     "name": "stdout",
     "output_type": "stream",
     "text": [
      "{'Neutral'}\n"
     ]
    }
   ],
   "source": [
    "myset = set(senti)\n",
    "print (myset)"
   ]
  },
  {
   "cell_type": "code",
   "execution_count": null,
   "metadata": {
    "collapsed": true
   },
   "outputs": [],
   "source": [
    "#they are all neutral :/\n",
    "#let's bin values"
   ]
  },
  {
   "cell_type": "code",
   "execution_count": null,
   "metadata": {
    "collapsed": true
   },
   "outputs": [],
   "source": []
  },
  {
   "cell_type": "markdown",
   "metadata": {},
   "source": [
    "## Price of BTC"
   ]
  },
  {
   "cell_type": "code",
   "execution_count": 10,
   "metadata": {
    "collapsed": true
   },
   "outputs": [],
   "source": [
    "bitcoin_price = pd.read_csv('/Users/Madhu/Documents/Courses/data_bds/BTC_20.csv')"
   ]
  },
  {
   "cell_type": "code",
   "execution_count": 11,
   "metadata": {
    "collapsed": false
   },
   "outputs": [
    {
     "data": {
      "text/html": [
       "<div>\n",
       "<table border=\"1\" class=\"dataframe\">\n",
       "  <thead>\n",
       "    <tr style=\"text-align: right;\">\n",
       "      <th></th>\n",
       "      <th>Date</th>\n",
       "      <th>Close Price</th>\n",
       "    </tr>\n",
       "  </thead>\n",
       "  <tbody>\n",
       "    <tr>\n",
       "      <th>0</th>\n",
       "      <td>10/20/17 0:00</td>\n",
       "      <td>5699.58</td>\n",
       "    </tr>\n",
       "    <tr>\n",
       "      <th>1</th>\n",
       "      <td>10/20/17 0:01</td>\n",
       "      <td>5699.40</td>\n",
       "    </tr>\n",
       "    <tr>\n",
       "      <th>2</th>\n",
       "      <td>10/20/17 0:02</td>\n",
       "      <td>5700.21</td>\n",
       "    </tr>\n",
       "    <tr>\n",
       "      <th>3</th>\n",
       "      <td>10/20/17 0:03</td>\n",
       "      <td>5700.17</td>\n",
       "    </tr>\n",
       "    <tr>\n",
       "      <th>4</th>\n",
       "      <td>10/20/17 0:04</td>\n",
       "      <td>5701.31</td>\n",
       "    </tr>\n",
       "  </tbody>\n",
       "</table>\n",
       "</div>"
      ],
      "text/plain": [
       "            Date  Close Price\n",
       "0  10/20/17 0:00      5699.58\n",
       "1  10/20/17 0:01      5699.40\n",
       "2  10/20/17 0:02      5700.21\n",
       "3  10/20/17 0:03      5700.17\n",
       "4  10/20/17 0:04      5701.31"
      ]
     },
     "execution_count": 11,
     "metadata": {},
     "output_type": "execute_result"
    }
   ],
   "source": [
    "bitcoin_price.head()"
   ]
  },
  {
   "cell_type": "code",
   "execution_count": 12,
   "metadata": {
    "collapsed": false
   },
   "outputs": [
    {
     "data": {
      "text/plain": [
       "<matplotlib.axes._subplots.AxesSubplot at 0x13d456c88>"
      ]
     },
     "execution_count": 12,
     "metadata": {},
     "output_type": "execute_result"
    },
    {
     "data": {
      "image/png": "[encoded data removed]",
      "text/plain": [
       "<matplotlib.figure.Figure at 0x10ae63ef0>"
      ]
     },
     "metadata": {},
     "output_type": "display_data"
    }
   ],
   "source": [
    "import matplotlib.pyplot as plt\n",
    "\n",
    "%matplotlib inline\n",
    "\n",
    "bitcoin_price.plot()"
   ]
  },
  {
   "cell_type": "markdown",
   "metadata": {},
   "source": [
    "Sample of grouping using date and count"
   ]
  },
  {
   "cell_type": "code",
   "execution_count": null,
   "metadata": {
    "collapsed": true
   },
   "outputs": [],
   "source": [
    "grp = data.groupby(by=[data.datetime_col.map(lambda x : (x.hour, x.minute))])\n",
    "grp.count()"
   ]
  }
 ],
 "metadata": {
  "anaconda-cloud": {},
  "kernelspec": {
   "display_name": "Python [Root]",
   "language": "python",
   "name": "Python [Root]"
  },
  "language_info": {
   "codemirror_mode": {
    "name": "ipython",
    "version": 3
   },
   "file_extension": ".py",
   "mimetype": "text/x-python",
   "name": "python",
   "nbconvert_exporter": "python",
   "pygments_lexer": "ipython3",
   "version": "3.5.2"
  }
 },
 "nbformat": 4,
 "nbformat_minor": 2
}
